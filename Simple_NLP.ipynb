{
  "nbformat": 4,
  "nbformat_minor": 0,
  "metadata": {
    "colab": {
      "provenance": [],
      "authorship_tag": "ABX9TyPCHpu0IpgS85HyiBNuNnqI"
    },
    "kernelspec": {
      "name": "python3",
      "display_name": "Python 3"
    },
    "language_info": {
      "name": "python"
    }
  },
  "cells": [
    {
      "cell_type": "code",
      "source": [
        "# Step 1: Import necessary libraries\n",
        "import nltk\n",
        "from nltk.corpus import movie_reviews\n",
        "from nltk.corpus import stopwords\n",
        "from nltk.stem import PorterStemmer\n",
        "from nltk.tokenize import word_tokenize\n",
        "from nltk.classify import NaiveBayesClassifier\n",
        "from nltk.classify.util import accuracy as nltk_accuracy\n",
        "import string\n",
        "\n",
        "# Download required NLTK data\n",
        "nltk.download('movie_reviews')\n",
        "nltk.download('stopwords')\n",
        "nltk.download('punkt_tab')"
      ],
      "metadata": {
        "colab": {
          "base_uri": "https://localhost:8080/"
        },
        "id": "Aldzo0OrtM3r",
        "outputId": "533ee68d-5fa9-4947-d17e-82dc6f3c47b9"
      },
      "execution_count": 17,
      "outputs": [
        {
          "output_type": "stream",
          "name": "stderr",
          "text": [
            "[nltk_data] Downloading package movie_reviews to /root/nltk_data...\n",
            "[nltk_data]   Package movie_reviews is already up-to-date!\n",
            "[nltk_data] Downloading package stopwords to /root/nltk_data...\n",
            "[nltk_data]   Package stopwords is already up-to-date!\n",
            "[nltk_data] Downloading package punkt_tab to /root/nltk_data...\n",
            "[nltk_data]   Package punkt_tab is already up-to-date!\n"
          ]
        },
        {
          "output_type": "execute_result",
          "data": {
            "text/plain": [
              "True"
            ]
          },
          "metadata": {},
          "execution_count": 17
        }
      ]
    },
    {
      "cell_type": "code",
      "source": [
        "# Step 2: Preprocessing function\n",
        "def preprocess_text(text):\n",
        "    # Convert to lowercase\n",
        "    text = text.lower()\n",
        "\n",
        "    # Remove punctuation\n",
        "    text = text.translate(str.maketrans('', '', string.punctuation))\n",
        "\n",
        "    # Tokenize the text\n",
        "    tokens = word_tokenize(text)\n",
        "\n",
        "    # Remove stopwords and apply stemming\n",
        "    stop_words = set(stopwords.words('english'))\n",
        "    stemmer = PorterStemmer()\n",
        "    processed_tokens = [stemmer.stem(token) for token in tokens if token not in stop_words]\n",
        "\n",
        "    return processed_tokens\n"
      ],
      "metadata": {
        "id": "3rb-dkj6tXCX"
      },
      "execution_count": 18,
      "outputs": []
    },
    {
      "cell_type": "code",
      "source": [
        "# Step 3: Prepare dataset (Movie Reviews corpus)\n",
        "documents = []\n",
        "for category in movie_reviews.categories():\n",
        "    for fileid in movie_reviews.fileids(category):\n",
        "        documents.append((list(movie_reviews.words(fileid)), category))\n"
      ],
      "metadata": {
        "id": "igCVFI2LtYpb"
      },
      "execution_count": 11,
      "outputs": []
    },
    {
      "cell_type": "code",
      "source": [
        "# Step 4: Feature extraction\n",
        "def extract_features(words):\n",
        "    return dict([(word, True) for word in words])\n",
        "\n",
        "# Create feature sets\n",
        "featuresets = [(extract_features(words), category) for (words, category) in documents]\n",
        "\n",
        "# Step 5: Split data into train/test sets (80/20 split)\n",
        "train_size = int(len(featuresets) * 0.8)\n",
        "train_set = featuresets[:train_size]\n",
        "test_set = featuresets[train_size:]"
      ],
      "metadata": {
        "id": "IRCGtIXYtfP1"
      },
      "execution_count": 19,
      "outputs": []
    },
    {
      "cell_type": "code",
      "source": [
        "# Step 6: Train the classifier\n",
        "classifier = NaiveBayesClassifier.train(train_set)\n"
      ],
      "metadata": {
        "id": "qeCKqHnvthmc"
      },
      "execution_count": 20,
      "outputs": []
    },
    {
      "cell_type": "code",
      "source": [
        "# Step 7: Evaluate the classifier\n",
        "accuracy = nltk_accuracy(classifier, test_set)\n",
        "print(f\"Classifier Accuracy: {accuracy:.2%}\")\n"
      ],
      "metadata": {
        "colab": {
          "base_uri": "https://localhost:8080/"
        },
        "id": "sGP6245Ptldg",
        "outputId": "113eb45c-da71-4b88-80e2-2d1459e78c88"
      },
      "execution_count": 21,
      "outputs": [
        {
          "output_type": "stream",
          "name": "stdout",
          "text": [
            "Classifier Accuracy: 96.50%\n"
          ]
        }
      ]
    },
    {
      "cell_type": "code",
      "source": [
        "# Step 8: Test with custom input\n",
        "def predict_sentiment(text):\n",
        "    processed_text = preprocess_text(text)\n",
        "    features = extract_features(processed_text)\n",
        "    return classifier.classify(features)"
      ],
      "metadata": {
        "id": "MWETnVwEtpOQ"
      },
      "execution_count": 22,
      "outputs": []
    },
    {
      "cell_type": "code",
      "source": [
        "# Test examples\n",
        "test_reviews = [\n",
        "    \"This movie is absolutely wonderful! Great acting and fantastic story.\",\n",
        "    \"Terrible film with bad acting and boring plot.\",\n",
        "    \"It was an okay movie, nothing special.\"\n",
        "]\n",
        "\n",
        "print(\"\\nPredictions:\")\n",
        "for review in test_reviews:\n",
        "    sentiment = predict_sentiment(review)\n",
        "    print(f\"Review: {review}\\nSentiment: {sentiment}\\n\")"
      ],
      "metadata": {
        "colab": {
          "base_uri": "https://localhost:8080/"
        },
        "id": "H_OAUvNBtuPR",
        "outputId": "3f1caf84-237d-4de8-bc8a-1287b01c73d0"
      },
      "execution_count": 24,
      "outputs": [
        {
          "output_type": "stream",
          "name": "stdout",
          "text": [
            "\n",
            "Predictions:\n",
            "Review: This movie is absolutely wonderful! Great acting and fantastic story.\n",
            "Sentiment: neg\n",
            "\n",
            "Review: Terrible film with bad acting and boring plot.\n",
            "Sentiment: neg\n",
            "\n",
            "Review: It was an okay movie, nothing special.\n",
            "Sentiment: neg\n",
            "\n"
          ]
        }
      ]
    }
  ]
}